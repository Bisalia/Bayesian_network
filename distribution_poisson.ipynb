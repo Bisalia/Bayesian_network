{
  "nbformat": 4,
  "nbformat_minor": 0,
  "metadata": {
    "colab": {
      "provenance": [],
      "toc_visible": true,
      "authorship_tag": "ABX9TyMPp+7pjmmtZhGQ8h37tlpg",
      "include_colab_link": true
    },
    "kernelspec": {
      "name": "python3",
      "display_name": "Python 3"
    },
    "language_info": {
      "name": "python"
    }
  },
  "cells": [
    {
      "cell_type": "markdown",
      "metadata": {
        "id": "view-in-github",
        "colab_type": "text"
      },
      "source": [
        "<a href=\"https://colab.research.google.com/github/Bisalia/Bayesian_network/blob/main/distribution_poisson.ipynb\" target=\"_parent\"><img src=\"https://colab.research.google.com/assets/colab-badge.svg\" alt=\"Open In Colab\"/></a>"
      ]
    },
    {
      "cell_type": "code",
      "execution_count": 5,
      "metadata": {
        "id": "V9NInVcfbFuq"
      },
      "outputs": [],
      "source": [
        "import numpy as np \n",
        "import matplotlib.pyplot as plt\n",
        "from scipy.stats import skew, kurtosis\n",
        " "
      ]
    },
    {
      "cell_type": "code",
      "source": [
        "# параметры распределения\n",
        "lambdas = [2, 5, 3, 6]\n",
        "weights = [0.5, 0.3, 0.4, 0.2]\n"
      ],
      "metadata": {
        "id": "FK04Y8xhbP8a"
      },
      "execution_count": 10,
      "outputs": []
    },
    {
      "cell_type": "code",
      "source": [
        "# моделирование выборки\n",
        "n = 1000\n",
        "# simulate the sample using the mixture of Poisson distributions\n",
        "sample = np.random.choice(np.concatenate([np.random.poisson(lam=l, size=int(w*n)) for l, w in zip(lambdas, weights)]), size=n)"
      ],
      "metadata": {
        "id": "uqqKR0VhbX0-"
      },
      "execution_count": 11,
      "outputs": []
    },
    {
      "cell_type": "code",
      "source": [
        "# plot the histogram of the sample\n",
        "plt.hist(sample, bins=30, density=True, alpha=0.5)\n",
        "plt.xlabel('Value')\n",
        "plt.ylabel('Frequency')\n",
        "plt.title('Mixture of Poisson distributions')\n",
        "plt.show()"
      ],
      "metadata": {
        "colab": {
          "base_uri": "https://localhost:8080/",
          "height": 295
        },
        "id": "y0ScyGt8beRr",
        "outputId": "6539958b-a2e0-465b-ec65-8be8e953dfe5"
      },
      "execution_count": 12,
      "outputs": [
        {
          "output_type": "display_data",
          "data": {
            "text/plain": [
              "<Figure size 432x288 with 1 Axes>"
            ],
            "image/png": "[encoded data removed]"
          },
          "metadata": {
            "needs_background": "light"
          }
        }
      ]
    },
    {
      "cell_type": "code",
      "source": [
        "# вычисление статистических показателей\n",
        "mean = np.mean(sample)\n",
        "median = np.median(sample)\n",
        "mode = np.argmax(np.bincount(sample))\n",
        "variance = np.var(sample)\n",
        "std = np.std(sample)\n",
        "skewness = skew(sample)\n",
        "kurt = kurtosis(sample)\n",
        "\n",
        "print('Среднее:', mean)\n",
        "print('Медиана:', median)\n",
        "print('Мода:', mode)\n",
        "print('Дисперсия:', variance)\n",
        "print('Стандартное отклонение:', std)\n",
        "print('Асимметрия:', skewness)\n",
        "print('Эксцесс:', kurt)"
      ],
      "metadata": {
        "id": "js2s7eFzcl8r",
        "colab": {
          "base_uri": "https://localhost:8080/"
        },
        "outputId": "0a591994-210c-4765-ec20-67b85ffcb71a"
      },
      "execution_count": 13,
      "outputs": [
        {
          "output_type": "stream",
          "name": "stdout",
          "text": [
            "Среднее: 3.385\n",
            "Медиана: 3.0\n",
            "Мода: 2\n",
            "Дисперсия: 5.604775\n",
            "Стандартное отклонение: 2.3674406011556024\n",
            "Асимметрия: 0.8160706296922183\n",
            "Эксцесс: 0.568486434307947\n"
          ]
        }
      ]
    }
  ]
}