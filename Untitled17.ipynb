{
  "nbformat": 4,
  "nbformat_minor": 0,
  "metadata": {
    "colab": {
      "provenance": [],
      "toc_visible": true,
      "authorship_tag": "ABX9TyOEeSwQfuXukWB63PW/0y9T",
      "include_colab_link": true
    },
    "kernelspec": {
      "name": "python3",
      "display_name": "Python 3"
    },
    "language_info": {
      "name": "python"
    }
  },
  "cells": [
    {
      "cell_type": "markdown",
      "metadata": {
        "id": "view-in-github",
        "colab_type": "text"
      },
      "source": [
        "<a href=\"https://colab.research.google.com/github/Bisalia/Bayesian_network/blob/main/Untitled17.ipynb\" target=\"_parent\"><img src=\"https://colab.research.google.com/assets/colab-badge.svg\" alt=\"Open In Colab\"/></a>"
      ]
    },
    {
      "cell_type": "code",
      "execution_count": 3,
      "metadata": {
        "id": "Nk4lbN2coN6B"
      },
      "outputs": [],
      "source": [
        "import pylab\n",
        "import os\n",
        "import matplotlib.pyplot as plt\n"
      ]
    },
    {
      "cell_type": "code",
      "source": [
        "pip install pyAgrum \n"
      ],
      "metadata": {
        "colab": {
          "base_uri": "https://localhost:8080/"
        },
        "id": "xlcMUQKlo_KQ",
        "outputId": "0adbb829-8ab8-408d-ccf1-2ded359cd95b"
      },
      "execution_count": 5,
      "outputs": [
        {
          "output_type": "stream",
          "name": "stdout",
          "text": [
            "Looking in indexes: https://pypi.org/simple, https://us-python.pkg.dev/colab-wheels/public/simple/\n",
            "Requirement already satisfied: pyAgrum in /usr/local/lib/python3.8/dist-packages (1.5.2)\n",
            "Requirement already satisfied: pydot in /usr/local/lib/python3.8/dist-packages (from pyAgrum) (1.3.0)\n",
            "Requirement already satisfied: numpy in /usr/local/lib/python3.8/dist-packages (from pyAgrum) (1.21.6)\n",
            "Requirement already satisfied: matplotlib in /usr/local/lib/python3.8/dist-packages (from pyAgrum) (3.2.2)\n",
            "Requirement already satisfied: pyparsing!=2.0.4,!=2.1.2,!=2.1.6,>=2.0.1 in /usr/local/lib/python3.8/dist-packages (from matplotlib->pyAgrum) (3.0.9)\n",
            "Requirement already satisfied: python-dateutil>=2.1 in /usr/local/lib/python3.8/dist-packages (from matplotlib->pyAgrum) (2.8.2)\n",
            "Requirement already satisfied: kiwisolver>=1.0.1 in /usr/local/lib/python3.8/dist-packages (from matplotlib->pyAgrum) (1.4.4)\n",
            "Requirement already satisfied: cycler>=0.10 in /usr/local/lib/python3.8/dist-packages (from matplotlib->pyAgrum) (0.11.0)\n",
            "Requirement already satisfied: six>=1.5 in /usr/local/lib/python3.8/dist-packages (from python-dateutil>=2.1->matplotlib->pyAgrum) (1.15.0)\n"
          ]
        }
      ]
    },
    {
      "cell_type": "code",
      "source": [
        "import pyAgrum  as gum \n",
        "%matplotlib inline \n",
        "import pyAgrum.lib.notebook as bngum "
      ],
      "metadata": {
        "id": "yoFs5dPtpiFm"
      },
      "execution_count": 12,
      "outputs": []
    },
    {
      "cell_type": "code",
      "source": [
        "bn = gum.fastBN(\"Age->Smoker<-Gender; Age->ExpoTotoxics->Cancer->Lung-tumer; Smoker->Cancer->Serum-calcium\")\n",
        "\n",
        "bn"
      ],
      "metadata": {
        "colab": {
          "base_uri": "https://localhost:8080/",
          "height": 368
        },
        "id": "Sc27we2VpjhU",
        "outputId": "18e8d8d6-edee-4cf5-d9d6-e6f88f3e12f3"
      },
      "execution_count": 36,
      "outputs": [
        {
          "output_type": "execute_result",
          "data": {
            "text/plain": [
              "(pyAgrum.BayesNet<double>@0x5017200) BN{nodes: 7, arcs: 7, domainSize: 128, dim: 16, mem: 256o}"
            ],
            "text/html": [
              "<svg xmlns=\"http://www.w3.org/2000/svg\" xmlns:xlink=\"http://www.w3.org/1999/xlink\" width=\"264pt\" height=\"260pt\" viewBox=\"0.00 0.00 263.94 260.00\">\n",
              "<g id=\"graph0\" class=\"graph\" transform=\"scale(1 1) rotate(0) translate(4 256)\">\n",
              "<title>G</title>\n",
              "<!-- Age -->\n",
              "<g id=\"node1\" class=\"node\">\n",
              "<title>Age</title>\n",
              "<g id=\"a_node1\"><a xlink:title=\"(0) Age\">\n",
              "<ellipse fill=\"#404040\" stroke=\"black\" cx=\"81.3\" cy=\"-234\" rx=\"27\" ry=\"18\"/>\n",
              "<text text-anchor=\"middle\" x=\"81.3\" y=\"-230.3\" font-family=\"Times,serif\" font-size=\"14.00\" fill=\"white\">Age</text>\n",
              "</a>\n",
              "</g>\n",
              "</g>\n",
              "<!-- ExpoTotoxics -->\n",
              "<g id=\"node2\" class=\"node\">\n",
              "<title>ExpoTotoxics</title>\n",
              "<g id=\"a_node2\"><a xlink:title=\"(3) ExpoTotoxics\">\n",
              "<ellipse fill=\"#404040\" stroke=\"black\" cx=\"63.3\" cy=\"-162\" rx=\"59.59\" ry=\"18\"/>\n",
              "<text text-anchor=\"middle\" x=\"63.3\" y=\"-158.3\" font-family=\"Times,serif\" font-size=\"14.00\" fill=\"white\">ExpoTotoxics</text>\n",
              "</a>\n",
              "</g>\n",
              "</g>\n",
              "<!-- Age&#45;&gt;ExpoTotoxics -->\n",
              "<g id=\"edge4\" class=\"edge\">\n",
              "<title>Age-&gt;ExpoTotoxics</title>\n",
              "<g id=\"a_edge4\"><a xlink:title=\"0 → 3\">\n",
              "<path fill=\"none\" stroke=\"#4a4a4a\" d=\"M76.94,-216.05C74.93,-208.26 72.51,-198.82 70.26,-190.08\"/>\n",
              "<polygon fill=\"#4a4a4a\" stroke=\"#4a4a4a\" points=\"73.62,-189.09 67.74,-180.28 66.84,-190.83 73.62,-189.09\"/>\n",
              "</a>\n",
              "</g>\n",
              "</g>\n",
              "<!-- Smoker -->\n",
              "<g id=\"node7\" class=\"node\">\n",
              "<title>Smoker</title>\n",
              "<g id=\"a_node7\"><a xlink:title=\"(1) Smoker\">\n",
              "<ellipse fill=\"#404040\" stroke=\"black\" cx=\"179.3\" cy=\"-162\" rx=\"38.19\" ry=\"18\"/>\n",
              "<text text-anchor=\"middle\" x=\"179.3\" y=\"-158.3\" font-family=\"Times,serif\" font-size=\"14.00\" fill=\"white\">Smoker</text>\n",
              "</a>\n",
              "</g>\n",
              "</g>\n",
              "<!-- Age&#45;&gt;Smoker -->\n",
              "<g id=\"edge1\" class=\"edge\">\n",
              "<title>Age-&gt;Smoker</title>\n",
              "<g id=\"a_edge1\"><a xlink:title=\"0 → 1\">\n",
              "<path fill=\"none\" stroke=\"#4a4a4a\" d=\"M99.27,-220.16C113.67,-209.88 134.14,-195.25 150.77,-183.37\"/>\n",
              "<polygon fill=\"#4a4a4a\" stroke=\"#4a4a4a\" points=\"152.96,-186.11 159.07,-177.45 148.9,-180.41 152.96,-186.11\"/>\n",
              "</a>\n",
              "</g>\n",
              "</g>\n",
              "<!-- Cancer -->\n",
              "<g id=\"node5\" class=\"node\">\n",
              "<title>Cancer</title>\n",
              "<g id=\"a_node5\"><a xlink:title=\"(4) Cancer\">\n",
              "<ellipse fill=\"#404040\" stroke=\"black\" cx=\"121.3\" cy=\"-90\" rx=\"36\" ry=\"18\"/>\n",
              "<text text-anchor=\"middle\" x=\"121.3\" y=\"-86.3\" font-family=\"Times,serif\" font-size=\"14.00\" fill=\"white\">Cancer</text>\n",
              "</a>\n",
              "</g>\n",
              "</g>\n",
              "<!-- ExpoTotoxics&#45;&gt;Cancer -->\n",
              "<g id=\"edge3\" class=\"edge\">\n",
              "<title>ExpoTotoxics-&gt;Cancer</title>\n",
              "<g id=\"a_edge3\"><a xlink:title=\"3 → 4\">\n",
              "<path fill=\"none\" stroke=\"#4a4a4a\" d=\"M77.04,-144.41C84.37,-135.57 93.51,-124.53 101.58,-114.79\"/>\n",
              "<polygon fill=\"#4a4a4a\" stroke=\"#4a4a4a\" points=\"104.36,-116.92 108.05,-106.99 98.97,-112.46 104.36,-116.92\"/>\n",
              "</a>\n",
              "</g>\n",
              "</g>\n",
              "<!-- Lung&#45;tumer -->\n",
              "<g id=\"node3\" class=\"node\">\n",
              "<title>Lung-tumer</title>\n",
              "<g id=\"a_node3\"><a xlink:title=\"(5) Lung-tumer\">\n",
              "<ellipse fill=\"#404040\" stroke=\"black\" cx=\"53.3\" cy=\"-18\" rx=\"53.09\" ry=\"18\"/>\n",
              "<text text-anchor=\"middle\" x=\"53.3\" y=\"-14.3\" font-family=\"Times,serif\" font-size=\"14.00\" fill=\"white\">Lung-tumer</text>\n",
              "</a>\n",
              "</g>\n",
              "</g>\n",
              "<!-- Gender -->\n",
              "<g id=\"node4\" class=\"node\">\n",
              "<title>Gender</title>\n",
              "<g id=\"a_node4\"><a xlink:title=\"(2) Gender\">\n",
              "<ellipse fill=\"#404040\" stroke=\"black\" cx=\"179.3\" cy=\"-234\" rx=\"36.29\" ry=\"18\"/>\n",
              "<text text-anchor=\"middle\" x=\"179.3\" y=\"-230.3\" font-family=\"Times,serif\" font-size=\"14.00\" fill=\"white\">Gender</text>\n",
              "</a>\n",
              "</g>\n",
              "</g>\n",
              "<!-- Gender&#45;&gt;Smoker -->\n",
              "<g id=\"edge2\" class=\"edge\">\n",
              "<title>Gender-&gt;Smoker</title>\n",
              "<g id=\"a_edge2\"><a xlink:title=\"2 → 1\">\n",
              "<path fill=\"none\" stroke=\"#4a4a4a\" d=\"M179.3,-215.7C179.3,-207.98 179.3,-198.71 179.3,-190.11\"/>\n",
              "<polygon fill=\"#4a4a4a\" stroke=\"#4a4a4a\" points=\"182.8,-190.1 179.3,-180.1 175.8,-190.1 182.8,-190.1\"/>\n",
              "</a>\n",
              "</g>\n",
              "</g>\n",
              "<!-- Cancer&#45;&gt;Lung&#45;tumer -->\n",
              "<g id=\"edge7\" class=\"edge\">\n",
              "<title>Cancer-&gt;Lung-tumer</title>\n",
              "<g id=\"a_edge7\"><a xlink:title=\"4 → 5\">\n",
              "<path fill=\"none\" stroke=\"#4a4a4a\" d=\"M106.2,-73.46C97.47,-64.48 86.3,-52.98 76.48,-42.87\"/>\n",
              "<polygon fill=\"#4a4a4a\" stroke=\"#4a4a4a\" points=\"78.77,-40.2 69.29,-35.47 73.75,-45.08 78.77,-40.2\"/>\n",
              "</a>\n",
              "</g>\n",
              "</g>\n",
              "<!-- Serum&#45;calcium -->\n",
              "<g id=\"node6\" class=\"node\">\n",
              "<title>Serum-calcium</title>\n",
              "<g id=\"a_node6\"><a xlink:title=\"(6) Serum-calcium\">\n",
              "<ellipse fill=\"#404040\" stroke=\"black\" cx=\"190.3\" cy=\"-18\" rx=\"65.79\" ry=\"18\"/>\n",
              "<text text-anchor=\"middle\" x=\"190.3\" y=\"-14.3\" font-family=\"Times,serif\" font-size=\"14.00\" fill=\"white\">Serum-calcium</text>\n",
              "</a>\n",
              "</g>\n",
              "</g>\n",
              "<!-- Cancer&#45;&gt;Serum&#45;calcium -->\n",
              "<g id=\"edge5\" class=\"edge\">\n",
              "<title>Cancer-&gt;Serum-calcium</title>\n",
              "<g id=\"a_edge5\"><a xlink:title=\"4 → 6\">\n",
              "<path fill=\"none\" stroke=\"#4a4a4a\" d=\"M136.61,-73.46C145.47,-64.48 156.8,-52.98 166.77,-42.87\"/>\n",
              "<polygon fill=\"#4a4a4a\" stroke=\"#4a4a4a\" points=\"169.54,-45.05 174.06,-35.47 164.55,-40.13 169.54,-45.05\"/>\n",
              "</a>\n",
              "</g>\n",
              "</g>\n",
              "<!-- Smoker&#45;&gt;Cancer -->\n",
              "<g id=\"edge6\" class=\"edge\">\n",
              "<title>Smoker-&gt;Cancer</title>\n",
              "<g id=\"a_edge6\"><a xlink:title=\"1 → 4\">\n",
              "<path fill=\"none\" stroke=\"#4a4a4a\" d=\"M165.84,-144.76C158.52,-135.93 149.33,-124.83 141.19,-115.01\"/>\n",
              "<polygon fill=\"#4a4a4a\" stroke=\"#4a4a4a\" points=\"143.75,-112.61 134.67,-107.15 138.36,-117.08 143.75,-112.61\"/>\n",
              "</a>\n",
              "</g>\n",
              "</g>\n",
              "</g>\n",
              "</svg>"
            ]
          },
          "metadata": {},
          "execution_count": 36
        }
      ]
    },
    {
      "cell_type": "code",
      "source": [
        "def testIndep(bn, a, b, knowing):\n",
        "  res = \"\" if bn.isIndependent(a, b, knowing) else ' not'\n",
        "  giv =\".\"if len(knowing)==0 else f\" knowing {knowing}\"\n",
        "  print(f'{a} and {b} {res} independent {giv}')\n"
      ],
      "metadata": {
        "id": "IYAH79KGytxY"
      },
      "execution_count": 31,
      "outputs": []
    },
    {
      "cell_type": "code",
      "source": [
        "testIndep(bn, \"Age\", \"Lung-tumer\", [\"Smoker\"])"
      ],
      "metadata": {
        "colab": {
          "base_uri": "https://localhost:8080/"
        },
        "id": "kV3b8QHo14mQ",
        "outputId": "0f72e3f4-fb57-4004-99e6-36a1eb5a9785"
      },
      "execution_count": 22,
      "outputs": [
        {
          "output_type": "stream",
          "name": "stdout",
          "text": [
            "Age and Lung-tumer  not independent  knowing ['Smoker']\n"
          ]
        }
      ]
    },
    {
      "cell_type": "code",
      "source": [
        "testIndep(bn, \"Age\", \"Lung-tumer\", [\"ExpoTotoxics\"])"
      ],
      "metadata": {
        "colab": {
          "base_uri": "https://localhost:8080/"
        },
        "id": "6B3ksM492ihQ",
        "outputId": "1f77e526-fa5c-406b-e6c3-a6a0cf240b93"
      },
      "execution_count": 23,
      "outputs": [
        {
          "output_type": "stream",
          "name": "stdout",
          "text": [
            "Age and Lung-tumer  not independent  knowing ['ExpoTotoxics']\n"
          ]
        }
      ]
    },
    {
      "cell_type": "code",
      "source": [
        "testIndep(bn, \"Age\", \"Gender\", [\"Smoker\"])"
      ],
      "metadata": {
        "colab": {
          "base_uri": "https://localhost:8080/"
        },
        "id": "y6kePsWS3OQa",
        "outputId": "605aa5d5-8a7d-40db-8d7a-98ca21b6c873"
      },
      "execution_count": 25,
      "outputs": [
        {
          "output_type": "stream",
          "name": "stdout",
          "text": [
            "Age and Gender  not independent  knowing ['Smoker']\n"
          ]
        }
      ]
    },
    {
      "cell_type": "code",
      "source": [
        "testIndep(bn, \"Age\", \"Gender\", [])"
      ],
      "metadata": {
        "colab": {
          "base_uri": "https://localhost:8080/"
        },
        "id": "TE082MGp5cmx",
        "outputId": "0d5394c0-e318-40ca-f12e-a1dc829b9130"
      },
      "execution_count": 32,
      "outputs": [
        {
          "output_type": "stream",
          "name": "stdout",
          "text": [
            "Age and Gender  independent .\n"
          ]
        }
      ]
    },
    {
      "cell_type": "code",
      "source": [
        "testIndep(bn, \"Age\", \"Cancer\", [\"ExpoTotoxics\"])"
      ],
      "metadata": {
        "colab": {
          "base_uri": "https://localhost:8080/"
        },
        "id": "9YIWo8lw5wt5",
        "outputId": "740e4f2d-d503-4a8f-f198-ec8b70a5ac57"
      },
      "execution_count": 34,
      "outputs": [
        {
          "output_type": "stream",
          "name": "stdout",
          "text": [
            "Age and Cancer  not independent  knowing ['ExpoTotoxics']\n"
          ]
        }
      ]
    },
    {
      "cell_type": "code",
      "source": [
        "testIndep(bn, \"Age\", \"Lung-tumer\", [\"Smoker\", \"Cancer\"])"
      ],
      "metadata": {
        "colab": {
          "base_uri": "https://localhost:8080/"
        },
        "id": "VVFZ9JEMJYqE",
        "outputId": "02f283d6-b39e-44ec-ede1-2fd223fc26ab"
      },
      "execution_count": 37,
      "outputs": [
        {
          "output_type": "stream",
          "name": "stdout",
          "text": [
            "Age and Lung-tumer  independent  knowing ['Smoker', 'Cancer']\n"
          ]
        }
      ]
    },
    {
      "cell_type": "code",
      "source": [
        "testIndep(bn, \"Lung-tumer\", \"Serum-calcium\", [\"Cancer\"])"
      ],
      "metadata": {
        "colab": {
          "base_uri": "https://localhost:8080/"
        },
        "id": "e4WsxEFkKRum",
        "outputId": "443d7734-83d8-4f1a-b65c-171a090c12e0"
      },
      "execution_count": 39,
      "outputs": [
        {
          "output_type": "stream",
          "name": "stdout",
          "text": [
            "Lung-tumer and Serum-calcium  independent  knowing ['Cancer']\n"
          ]
        }
      ]
    },
    {
      "cell_type": "code",
      "source": [
        "\n",
        "testIndep(bn, \"Age\", \"Cancer\", [\"Smoker\", \"ExpoTotoxics\"])"
      ],
      "metadata": {
        "colab": {
          "base_uri": "https://localhost:8080/"
        },
        "id": "-VGz0QUwKykt",
        "outputId": "84ae0cb3-4e7a-4529-d097-120e6e409fd7"
      },
      "execution_count": 41,
      "outputs": [
        {
          "output_type": "stream",
          "name": "stdout",
          "text": [
            "Age and Cancer  independent  knowing ['Smoker', 'ExpoTotoxics']\n"
          ]
        }
      ]
    },
    {
      "cell_type": "code",
      "source": [
        "testIndep(bn, \"Age\", \"Serum-calcium\", [\"Smoker\", \"ExpoTotoxics\", \"Cancer\"])"
      ],
      "metadata": {
        "colab": {
          "base_uri": "https://localhost:8080/"
        },
        "id": "SFce8T1wLIXf",
        "outputId": "2d104d7e-2a54-4c93-8f0f-9f7f0d48352e"
      },
      "execution_count": 44,
      "outputs": [
        {
          "output_type": "stream",
          "name": "stdout",
          "text": [
            "Age and Serum-calcium  independent  knowing ['Smoker', 'ExpoTotoxics', 'Cancer']\n"
          ]
        }
      ]
    }
  ]
}