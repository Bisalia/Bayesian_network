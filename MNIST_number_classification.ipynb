{
  "nbformat": 4,
  "nbformat_minor": 0,
  "metadata": {
    "colab": {
      "provenance": [],
      "gpuType": "T4",
      "toc_visible": true,
      "authorship_tag": "ABX9TyMvMFu5TQKyKzNP0iKikPNk",
      "include_colab_link": true
    },
    "kernelspec": {
      "name": "python3",
      "display_name": "Python 3"
    },
    "language_info": {
      "name": "python"
    },
    "accelerator": "GPU"
  },
  "cells": [
    {
      "cell_type": "markdown",
      "metadata": {
        "id": "view-in-github",
        "colab_type": "text"
      },
      "source": [
        "<a href=\"https://colab.research.google.com/github/Bisalia/Bayesian_network/blob/main/MNIST_number_classification.ipynb\" target=\"_parent\"><img src=\"https://colab.research.google.com/assets/colab-badge.svg\" alt=\"Open In Colab\"/></a>"
      ]
    },
    {
      "cell_type": "markdown",
      "source": [
        "## н гуесан би Армель\n",
        "## задача №1\n",
        "## группа М08-"
      ],
      "metadata": {
        "id": "BIU6D3id8asH"
      }
    },
    {
      "cell_type": "code",
      "execution_count": 1,
      "metadata": {
        "id": "zRGdACjLx42q"
      },
      "outputs": [],
      "source": [
        "import torch\n",
        "import torch.nn as nn\n",
        "import torchvision\n",
        "import torchvision.transforms as transforms\n",
        "from torchvision.transforms import ToTensor\n",
        "from torch.utils.data import DataLoader\n",
        "\n",
        "from torchvision.datasets import MNIST\n",
        "import torch.optim as optim\n",
        "import copy\n",
        "import matplotlib.pyplot as plt\n"
      ]
    },
    {
      "cell_type": "code",
      "source": [
        "batch_size =64"
      ],
      "metadata": {
        "id": "w_9a3zblD4P1"
      },
      "execution_count": 2,
      "outputs": []
    },
    {
      "cell_type": "markdown",
      "source": [
        "##Getting Data\n"
      ],
      "metadata": {
        "id": "zg0PihSD8E0i"
      }
    },
    {
      "cell_type": "code",
      "source": [
        "transform = transforms.Compose([transforms.ToTensor(), transforms.Normalize((0.5,),(0.5,))])\n",
        "mnist_trainset =MNIST(root='data',  train=True, download=True, transform=transform)\n",
        "mnist_val = MNIST(root='data', train=False, download=True, transform=transform)\n",
        "train_dl = torch.utils.data.DataLoader(mnist_trainset, batch_size = batch_size)\n",
        "val_dl = torch.utils.data.DataLoader(mnist_val, batch_size = batch_size)"
      ],
      "metadata": {
        "id": "RudbLWWwyi6g",
        "colab": {
          "base_uri": "https://localhost:8080/"
        },
        "outputId": "6678afcf-b5f8-4bd0-f8f9-d2fac5b51ba9"
      },
      "execution_count": 3,
      "outputs": [
        {
          "output_type": "stream",
          "name": "stdout",
          "text": [
            "Downloading http://yann.lecun.com/exdb/mnist/train-images-idx3-ubyte.gz\n",
            "Downloading http://yann.lecun.com/exdb/mnist/train-images-idx3-ubyte.gz to data/MNIST/raw/train-images-idx3-ubyte.gz\n"
          ]
        },
        {
          "output_type": "stream",
          "name": "stderr",
          "text": [
            "100%|██████████| 9912422/9912422 [00:00<00:00, 149510431.37it/s]"
          ]
        },
        {
          "output_type": "stream",
          "name": "stdout",
          "text": [
            "Extracting data/MNIST/raw/train-images-idx3-ubyte.gz to data/MNIST/raw\n"
          ]
        },
        {
          "output_type": "stream",
          "name": "stderr",
          "text": [
            "\n"
          ]
        },
        {
          "output_type": "stream",
          "name": "stdout",
          "text": [
            "\n",
            "Downloading http://yann.lecun.com/exdb/mnist/train-labels-idx1-ubyte.gz\n",
            "Downloading http://yann.lecun.com/exdb/mnist/train-labels-idx1-ubyte.gz to data/MNIST/raw/train-labels-idx1-ubyte.gz\n"
          ]
        },
        {
          "output_type": "stream",
          "name": "stderr",
          "text": [
            "100%|██████████| 28881/28881 [00:00<00:00, 42683472.10it/s]\n"
          ]
        },
        {
          "output_type": "stream",
          "name": "stdout",
          "text": [
            "Extracting data/MNIST/raw/train-labels-idx1-ubyte.gz to data/MNIST/raw\n",
            "\n",
            "Downloading http://yann.lecun.com/exdb/mnist/t10k-images-idx3-ubyte.gz\n",
            "Downloading http://yann.lecun.com/exdb/mnist/t10k-images-idx3-ubyte.gz to data/MNIST/raw/t10k-images-idx3-ubyte.gz\n"
          ]
        },
        {
          "output_type": "stream",
          "name": "stderr",
          "text": [
            "100%|██████████| 1648877/1648877 [00:00<00:00, 36268670.30it/s]"
          ]
        },
        {
          "output_type": "stream",
          "name": "stdout",
          "text": [
            "Extracting data/MNIST/raw/t10k-images-idx3-ubyte.gz to data/MNIST/raw\n"
          ]
        },
        {
          "output_type": "stream",
          "name": "stderr",
          "text": [
            "\n"
          ]
        },
        {
          "output_type": "stream",
          "name": "stdout",
          "text": [
            "\n",
            "Downloading http://yann.lecun.com/exdb/mnist/t10k-labels-idx1-ubyte.gz\n",
            "Downloading http://yann.lecun.com/exdb/mnist/t10k-labels-idx1-ubyte.gz to data/MNIST/raw/t10k-labels-idx1-ubyte.gz\n"
          ]
        },
        {
          "output_type": "stream",
          "name": "stderr",
          "text": [
            "100%|██████████| 4542/4542 [00:00<00:00, 18406307.99it/s]\n"
          ]
        },
        {
          "output_type": "stream",
          "name": "stdout",
          "text": [
            "Extracting data/MNIST/raw/t10k-labels-idx1-ubyte.gz to data/MNIST/raw\n",
            "\n"
          ]
        }
      ]
    },
    {
      "cell_type": "code",
      "source": [
        "image, label = mnist_trainset[0]\n",
        "image.shape"
      ],
      "metadata": {
        "colab": {
          "base_uri": "https://localhost:8080/"
        },
        "id": "C7YkjqgGOZsQ",
        "outputId": "4e41d0c6-6db2-4e2f-8678-51003c6c3c49"
      },
      "execution_count": 4,
      "outputs": [
        {
          "output_type": "execute_result",
          "data": {
            "text/plain": [
              "torch.Size([1, 28, 28])"
            ]
          },
          "metadata": {},
          "execution_count": 4
        }
      ]
    },
    {
      "cell_type": "code",
      "source": [
        "# See classes\n",
        "class_names = mnist_trainset.classes\n",
        "class_names"
      ],
      "metadata": {
        "colab": {
          "base_uri": "https://localhost:8080/"
        },
        "id": "fSd6fw5z6Aff",
        "outputId": "4092caed-5f5f-4735-fa49-0427bf895e40"
      },
      "execution_count": 5,
      "outputs": [
        {
          "output_type": "execute_result",
          "data": {
            "text/plain": [
              "['0 - zero',\n",
              " '1 - one',\n",
              " '2 - two',\n",
              " '3 - three',\n",
              " '4 - four',\n",
              " '5 - five',\n",
              " '6 - six',\n",
              " '7 - seven',\n",
              " '8 - eight',\n",
              " '9 - nine']"
            ]
          },
          "metadata": {},
          "execution_count": 5
        }
      ]
    },
    {
      "cell_type": "code",
      "source": [
        "import matplotlib.pyplot as plt\n",
        "image, label = mnist_trainset[0]\n",
        "print(f\"Image shape: {image.shape}\")\n",
        "plt.imshow(image.squeeze(), cmap='gray') # image shape is [1, 28, 28] (colour channels, height, width)\n",
        "plt.title(label);"
      ],
      "metadata": {
        "colab": {
          "base_uri": "https://localhost:8080/",
          "height": 470
        },
        "id": "YaIYlB2y6S3l",
        "outputId": "50755cb8-8e45-4ecc-cb1c-8d26a604cc36"
      },
      "execution_count": 6,
      "outputs": [
        {
          "output_type": "stream",
          "name": "stdout",
          "text": [
            "Image shape: torch.Size([1, 28, 28])\n"
          ]
        },
        {
          "output_type": "display_data",
          "data": {
            "text/plain": [
              "<Figure size 640x480 with 1 Axes>"
            ],
            "image/png": "[encoded data removed]"
          },
          "metadata": {}
        }
      ]
    },
    {
      "cell_type": "code",
      "source": [
        "# Plot more images\n",
        "torch.manual_seed(42)\n",
        "fig = plt.figure(figsize=(9, 9))\n",
        "rows, cols = 4, 4\n",
        "for i in range(1, rows * cols + 1):\n",
        "    random_idx = torch.randint(0, len(mnist_trainset), size=[1]).item()\n",
        "    img, label = mnist_trainset[random_idx]\n",
        "    fig.add_subplot(rows, cols, i)\n",
        "    plt.imshow(img.squeeze(), cmap=\"gray\")\n",
        "    plt.title(class_names[label])\n",
        "    plt.axis(False);"
      ],
      "metadata": {
        "colab": {
          "base_uri": "https://localhost:8080/",
          "height": 752
        },
        "id": "UWXG-dqeAhGG",
        "outputId": "4b7022d8-1d00-44d9-987f-a48ff472ddaa"
      },
      "execution_count": 7,
      "outputs": [
        {
          "output_type": "display_data",
          "data": {
            "text/plain": [
              "<Figure size 900x900 with 16 Axes>"
            ],
            "image/png": "[encoded data removed]"
          },
          "metadata": {}
        }
      ]
    },
    {
      "cell_type": "markdown",
      "source": [
        "##Creating the Model\n",
        "##For the Mnist dataset, we will be using the LeNet 5 architecture\n"
      ],
      "metadata": {
        "id": "EgQ9RlT-13zo"
      }
    },
    {
      "cell_type": "code",
      "source": [
        "\n",
        "\n",
        "class LeNet(nn.Module):\n",
        "    def __init__(self):\n",
        "        super(LeNet, self).__init__()\n",
        "        self.conv1 = nn.Conv2d(1, 6, 5, padding=2)\n",
        "        self.relu1 = nn.ReLU()\n",
        "        self.avgpool1 = nn.AvgPool2d(2, stride=2)\n",
        "        self.conv2 = nn.Conv2d(6, 16, 5, padding=0)\n",
        "        self.relu2 = nn.ReLU()\n",
        "        self.avgpool2 = nn.AvgPool2d(2, stride=2)\n",
        "        self.flatten = nn.Flatten()\n",
        "        self.fc1 = nn.Linear(400, 120)\n",
        "        self.relu3 = nn.ReLU()\n",
        "        self.fc2 = nn.Linear(120, 84)\n",
        "        self.relu4 = nn.ReLU()\n",
        "        self.fc3 = nn.Linear(84, 10)\n",
        "\n",
        "    def forward(self, x):\n",
        "        x = self.conv1(x)\n",
        "        x = self.relu1(x)\n",
        "        x = self.avgpool1(x)\n",
        "        x = self.conv2(x)\n",
        "        x = self.relu2(x)\n",
        "        x = self.avgpool2(x)\n",
        "        x = self.flatten(x)\n",
        "        x = self.fc1(x)\n",
        "        x = self.relu3(x)\n",
        "        x = self.fc2(x)\n",
        "        x = self.relu4(x)\n",
        "        x = self.fc3(x)\n",
        "        return x\n",
        "\n",
        "# Create an instance of the LeNet model\n",
        "lenet_model = LeNet()\n",
        "\n"
      ],
      "metadata": {
        "id": "gFCArCLn6mU5"
      },
      "execution_count": 32,
      "outputs": []
    },
    {
      "cell_type": "markdown",
      "source": [
        "##Validating the Model"
      ],
      "metadata": {
        "id": "bZvCViuD35Wg"
      }
    },
    {
      "cell_type": "code",
      "source": [
        "def validate(model, data, device='cpu'):\n",
        "    total = 0\n",
        "    correct = 0\n",
        "    for i, (images, labels) in enumerate(data):\n",
        "        images = images.cuda()\n",
        "        x = model(images)\n",
        "        value, pred = torch.max(x,1)\n",
        "        pred = pred.data.cpu()\n",
        "        total += x.size(0)\n",
        "        correct += torch.sum(pred == labels)\n",
        "    return correct*100./total\n"
      ],
      "metadata": {
        "id": "OBLb28DW7noD"
      },
      "execution_count": 9,
      "outputs": []
    },
    {
      "cell_type": "markdown",
      "source": [
        "##Training Function\n"
      ],
      "metadata": {
        "id": "TyA6zeSl4x-a"
      }
    },
    {
      "cell_type": "code",
      "source": [
        "\n",
        "def train(model, numb_epoch=10, lr=1e-3, device='cpu'):\n",
        "    accuracies = []\n",
        "    cnn = LeNet().to(device)\n",
        "    cec = nn.CrossEntropyLoss()\n",
        "    optimizer = optim.Adam(cnn.parameters(), lr=lr)\n",
        "    max_accuracy = 0\n",
        "    for epoch in range(numb_epoch):\n",
        "        for i, (images, labels) in enumerate(train_dl):\n",
        "            images = images.to(device)\n",
        "            labels = labels.to(device)\n",
        "            optimizer.zero_grad()\n",
        "            pred = cnn(images)\n",
        "            loss = cec(pred, labels)\n",
        "            loss.backward()\n",
        "            optimizer.step()\n",
        "        accuracy = float(validate(cnn, val_dl))\n",
        "        accuracies.append(accuracy)\n",
        "        if accuracy > max_accuracy:\n",
        "            best_model = copy.deepcopy(cnn)\n",
        "            max_accuracy = accuracy\n",
        "            print(\"Saving Best Model with Accuracy: \", accuracy)\n",
        "        print('Epoch:', epoch+1, \"Accuracy :\", accuracy, '%')\n",
        "    plt.plot(accuracies)\n",
        "    return best_model"
      ],
      "metadata": {
        "id": "cRdx4QQd7akh"
      },
      "execution_count": 11,
      "outputs": []
    },
    {
      "cell_type": "markdown",
      "source": [
        "##GPU Availability\n"
      ],
      "metadata": {
        "id": "ouUq7cWZ402j"
      }
    },
    {
      "cell_type": "code",
      "source": [
        "\n",
        "if torch.cuda.is_available():\n",
        "    device = torch.device(\"cuda:0\")\n",
        "else:\n",
        "    device = torch.device(\"cpu\")\n",
        "    print(\"No Cuda Available\")\n",
        "device"
      ],
      "metadata": {
        "colab": {
          "base_uri": "https://localhost:8080/"
        },
        "id": "2VCOLLWF624J",
        "outputId": "5e8187f3-b569-495b-a1ef-563385318692"
      },
      "execution_count": 12,
      "outputs": [
        {
          "output_type": "execute_result",
          "data": {
            "text/plain": [
              "device(type='cuda', index=0)"
            ]
          },
          "metadata": {},
          "execution_count": 12
        }
      ]
    },
    {
      "cell_type": "code",
      "source": [
        "lenet = train(40, device=device)"
      ],
      "metadata": {
        "colab": {
          "base_uri": "https://localhost:8080/",
          "height": 781
        },
        "id": "SE08c-H87AIe",
        "outputId": "7eafed1c-513e-474e-a254-0406bc447b4e"
      },
      "execution_count": 13,
      "outputs": [
        {
          "output_type": "stream",
          "name": "stdout",
          "text": [
            "Saving Best Model with Accuracy:  96.56999969482422\n",
            "Epoch: 1 Accuracy : 96.56999969482422 %\n",
            "Saving Best Model with Accuracy:  97.51000213623047\n",
            "Epoch: 2 Accuracy : 97.51000213623047 %\n",
            "Saving Best Model with Accuracy:  97.69999694824219\n",
            "Epoch: 3 Accuracy : 97.69999694824219 %\n",
            "Saving Best Model with Accuracy:  98.30999755859375\n",
            "Epoch: 4 Accuracy : 98.30999755859375 %\n",
            "Epoch: 5 Accuracy : 98.18000030517578 %\n",
            "Saving Best Model with Accuracy:  98.55999755859375\n",
            "Epoch: 6 Accuracy : 98.55999755859375 %\n",
            "Saving Best Model with Accuracy:  98.72000122070312\n",
            "Epoch: 7 Accuracy : 98.72000122070312 %\n",
            "Saving Best Model with Accuracy:  98.79000091552734\n",
            "Epoch: 8 Accuracy : 98.79000091552734 %\n",
            "Saving Best Model with Accuracy:  98.80999755859375\n",
            "Epoch: 9 Accuracy : 98.80999755859375 %\n",
            "Saving Best Model with Accuracy:  98.81999969482422\n",
            "Epoch: 10 Accuracy : 98.81999969482422 %\n"
          ]
        },
        {
          "output_type": "display_data",
          "data": {
            "text/plain": [
              "<Figure size 640x480 with 1 Axes>"
            ],
            "image/png": "[encoded data removed]"
          },
          "metadata": {}
        }
      ]
    },
    {
      "cell_type": "markdown",
      "source": [
        "##Iterative augmentation\n",
        "\n",
        "\n",
        "\n"
      ],
      "metadata": {
        "id": "JuZOJ13F48oa"
      }
    },
    {
      "cell_type": "code",
      "source": [
        "'''\n",
        "# Modify the validate function to accept the device\n",
        "def validate(model, data_loader, device):\n",
        "    model.eval()  # Set the model to evaluation mode\n",
        "    correct = 0\n",
        "    total = 0\n",
        "\n",
        "    with torch.no_grad():\n",
        "        for images, labels in data_loader:\n",
        "            images, labels = images.to(device), labels.to(device)\n",
        "\n",
        "            # Forward pass\n",
        "            outputs = model(images)\n",
        "\n",
        "            # Calculate accuracy\n",
        "            _, predicted = torch.max(outputs.data, 1)\n",
        "            total += labels.size(0)\n",
        "            correct += (predicted == labels).sum().item()\n",
        "\n",
        "    accuracy = correct / total * 100\n",
        "    return accuracy'''\n",
        "\n",
        "# Modifier la fonction train_iterative_augmentation pour passer l'appareil à valider\n",
        "def train_iterative_augmentation(model, num_epochs=3, learning_rate=1e-3, device=\"cpu\", save_path=\"best_model.pth\"):\n",
        "    accuracies = []\n",
        "    cnn = LeNet().to(device)\n",
        "    cec = nn.CrossEntropyLoss()\n",
        "    optimizer = optim.Adam(cnn.parameters(), lr=learning_rate)\n",
        "\n",
        "    # learning rate scheduler\n",
        "    scheduler = optim.lr_scheduler.StepLR(optimizer, step_size=5, gamma=0.1)\n",
        "\n",
        "    max_accuracy = 0\n",
        "\n",
        "    # Augmentation transforms\n",
        "    augmentations = [\n",
        "        transforms.RandomRotation(45),\n",
        "        transforms.RandomResizedCrop(28, scale=(8.0, 1.0)),\n",
        "        transforms.RandomHorizontalFlip(),\n",
        "        transforms.ToTensor()\n",
        "    ]\n",
        "\n",
        "    for epoch in range(num_epochs):\n",
        "       # Apply different augmentations in each epoch\n",
        "        random_augmentation = transforms.RandomChoice(augmentations)\n",
        "        transform = transforms.Compose([random_augmentation, transforms.ToTensor()])\n",
        "\n",
        "        # Apply transformations to the dataset\n",
        "        augmented_trainset = mnist_trainset\n",
        "        # Create a new DataLoader with the augmented dataset\n",
        "        augmented_train_dl = DataLoader(augmented_trainset, batch_size=batch_size, shuffle=True, num_workers=4)\n",
        "\n",
        "        for i, (images, labels) in enumerate(augmented_train_dl):\n",
        "            images = images.to(device)\n",
        "            labels = labels.to(device)\n",
        "            optimizer.zero_grad()\n",
        "            pred = cnn(images)\n",
        "            loss = cec(pred, labels)\n",
        "            loss.backward()\n",
        "            optimizer.step()\n",
        "\n",
        "       # Show some images after augmentation for the first batch of the first epoch\n",
        "        if epoch == 0:\n",
        "            for images, _ in augmented_train_dl:\n",
        "                original_image = torchvision.transforms.ToPILImage()(images[0].cpu())\n",
        "                plt.subplot(1, 2, 1)\n",
        "                plt.imshow(original_image)\n",
        "                plt.title('Image original')\n",
        "                plt.axis('off')\n",
        "\n",
        "                augmented_image = torchvision.transforms.ToPILImage()(images[0].cpu())\n",
        "                plt.subplot(1, 2, 2)\n",
        "                plt.imshow(augmented_image)\n",
        "                plt.title('Image augmented')\n",
        "                plt.axis('off')\n",
        "                plt.show()\n",
        "                break\n",
        "# Passing the model, validation data and device to the validation function\n",
        "        accuracy = float(validate(cnn, val_dl, device))  # Assuming val_dl is your validation dataloader\n",
        "        accuracies.append(accuracy)\n",
        "\n",
        "        if accuracy > max_accuracy:\n",
        "            # Sauvegarder le meilleur modèle\n",
        "            torch.save(cnn.state_dict(), save_path)\n",
        "            max_accuracy = accuracy\n",
        "            print(\"Saving Best Model with Accuracy:urracy\", accuracy)\n",
        "\n",
        "        print('Époque:', epoch + 1, \"Précision:\", accuracy, '%')\n",
        "\n",
        "# Update learning rate with planner        scheduler.step()\n",
        "\n",
        "    plt.plot(accuracies)\n",
        "    plt.xlabel(\"Époch\")\n",
        "    plt.ylabel(\"Acc of validation\")\n",
        "    plt.show()\n",
        "\n",
        "    return cnn\n",
        "\n",
        "# Call the function and capture the returned model\n",
        "best_model_iterative_augmentation = train_iterative_augmentation(lenet_model, num_epochs=10, learning_rate=1e-3, device=device, save_path=\"best_model.pth\")\n",
        "\n",
        "\n",
        "\n",
        "\n",
        "\n"
      ],
      "metadata": {
        "id": "0ORQgmgbJjgZ"
      },
      "execution_count": 61,
      "outputs": []
    },
    {
      "cell_type": "markdown",
      "source": [
        "## Iterative defrosting of layers"
      ],
      "metadata": {
        "id": "EVU3PrVF7kmH"
      }
    },
    {
      "cell_type": "code",
      "source": [
        "\n",
        "def train_defrosting(model, train_loader, val_loader, num_epochs=5, learning_rate=1e-3, device=\"cpu\"):\n",
        "    accuracies = []\n",
        "    optimizer = optim.Adam(model.parameters(), lr=learning_rate)\n",
        "    criterion = nn.CrossEntropyLoss()\n",
        "\n",
        "    for epoch in range(num_epochs):\n",
        "        print(f\"Epoch {epoch + 1}/{num_epochs}\")\n",
        "\n",
        "        # Gradually unfreeze layers\n",
        "        unfreeze_layers = min(4, epoch)  # You can adjust the number of layers to unfreeze at each step\n",
        "        for param in model.parameters():\n",
        "            param.requires_grad = True\n",
        "        for i, (name, param) in enumerate(model.named_parameters()):\n",
        "            if i >= len(list(model.named_parameters())) - unfreeze_layers * 2:\n",
        "                param.requires_grad = False\n",
        "\n",
        "        model.train()\n",
        "\n",
        "        for images, labels in train_loader:\n",
        "            images, labels = images.to(device), labels.to(device)\n",
        "            optimizer.zero_grad()\n",
        "            outputs = model(images)\n",
        "            loss = criterion(outputs, labels)\n",
        "            loss.backward()\n",
        "            optimizer.step()\n",
        "\n",
        "        accuracy = validate(model, val_loader, device)\n",
        "        accuracies.append(accuracy)\n",
        "        print(f\"Validation Accuracy: {accuracy:.2f}%\")\n",
        "\n",
        "    return model, accuracies\n",
        "\n",
        "# Create an instance of the LeNet model\n",
        "#lenet_model = LeNet().to(device)\n",
        "\n",
        "# Train with iterative defrosting\n",
        "#trained_model, accuracies = train_defrosting(lenet_model, train_dl, val_dl, num_epochs=10, learning_rate=1e-3, device=device)\n",
        "\n",
        "# Plotting accuracies\n",
        "plt.plot(accuracies)\n",
        "plt.xlabel(\"Epoch\")\n",
        "plt.ylabel(\"Validation Accuracy\")\n",
        "plt.show()"
      ],
      "metadata": {
        "id": "Np8H9QSPkeNf",
        "colab": {
          "base_uri": "https://localhost:8080/",
          "height": 449
        },
        "outputId": "dd3cd6c4-6a34-4069-ce8c-18b4f7c38a31"
      },
      "execution_count": 65,
      "outputs": [
        {
          "output_type": "display_data",
          "data": {
            "text/plain": [
              "<Figure size 640x480 with 1 Axes>"
            ],
            "image/png": "[encoded data removed]"
          },
          "metadata": {}
        }
      ]
    },
    {
      "cell_type": "code",
      "source": [
        "# Use the LeNet model\n",
        "lenet_model = LeNet().to(device)\n",
        "# Train the pure model with 10 epochs\n",
        "pure_classifier = train(lenet_model, numb_epoch=10, lr=1e-3, device=device)\n",
        "\n",
        "# Train the model with iterative defrost and adaptive lr with 10 epochs\n",
        "\n",
        "trained_model_iterative_defrosting = train_defrosting(lenet_model, train_dl, val_dl, num_epochs=10, learning_rate=1e-3, device=device\n",
        "\n",
        "best_model_iterative_augmentation = train_iterative_augmentation(lenet_model, num_epochs=10, learning_rate=1e-3, device=device, save_path=\"best_model.pth\")\n",
        "\n"
      ],
      "metadata": {
        "id": "fC_wWcnsroA0",
        "colab": {
          "base_uri": "https://localhost:8080/",
          "height": 1000
        },
        "outputId": "7fd038ac-a999-4840-a4ac-2d5371a1a51a"
      },
      "execution_count": 68,
      "outputs": [
        {
          "output_type": "stream",
          "name": "stdout",
          "text": [
            "Saving Best Model with Accuracy:  96.25\n",
            "Epoch: 1 Accuracy : 96.25 %\n",
            "Saving Best Model with Accuracy:  97.7699966430664\n",
            "Epoch: 2 Accuracy : 97.7699966430664 %\n",
            "Saving Best Model with Accuracy:  98.27999877929688\n",
            "Epoch: 3 Accuracy : 98.27999877929688 %\n",
            "Saving Best Model with Accuracy:  98.37999725341797\n",
            "Epoch: 4 Accuracy : 98.37999725341797 %\n",
            "Saving Best Model with Accuracy:  98.68000030517578\n",
            "Epoch: 5 Accuracy : 98.68000030517578 %\n",
            "Saving Best Model with Accuracy:  98.87999725341797\n",
            "Epoch: 6 Accuracy : 98.87999725341797 %\n",
            "Epoch: 7 Accuracy : 98.87000274658203 %\n",
            "Epoch: 8 Accuracy : 98.87999725341797 %\n",
            "Epoch: 9 Accuracy : 98.87000274658203 %\n",
            "Saving Best Model with Accuracy:  98.88999938964844\n",
            "Epoch: 10 Accuracy : 98.88999938964844 %\n",
            "Epoch 1/10\n",
            "Validation Accuracy: 96.75%\n",
            "Epoch 2/10\n",
            "Validation Accuracy: 98.04%\n",
            "Epoch 3/10\n",
            "Validation Accuracy: 98.10%\n",
            "Epoch 4/10\n",
            "Validation Accuracy: 98.52%\n",
            "Epoch 5/10\n",
            "Validation Accuracy: 98.66%\n",
            "Epoch 6/10\n",
            "Validation Accuracy: 98.69%\n",
            "Epoch 7/10\n",
            "Validation Accuracy: 98.67%\n",
            "Epoch 8/10\n",
            "Validation Accuracy: 98.66%\n",
            "Epoch 9/10\n",
            "Validation Accuracy: 98.65%\n",
            "Epoch 10/10\n",
            "Validation Accuracy: 98.65%\n",
            "----------------------------------------------------------------------------------------------------\n"
          ]
        },
        {
          "output_type": "stream",
          "name": "stderr",
          "text": [
            "/usr/local/lib/python3.10/dist-packages/torchvision/transforms/transforms.py:917: UserWarning: Scale and ratio should be of kind (min, max)\n",
            "  warnings.warn(\"Scale and ratio should be of kind (min, max)\")\n",
            "/usr/local/lib/python3.10/dist-packages/torch/utils/data/dataloader.py:557: UserWarning: This DataLoader will create 4 worker processes in total. Our suggested max number of worker in current system is 2, which is smaller than what this DataLoader is going to create. Please be aware that excessive worker creation might get DataLoader running slow or even freeze, lower the worker number to avoid potential slowness/freeze if necessary.\n",
            "  warnings.warn(_create_warning_msg(\n",
            "<ipython-input-61-1f7d073591ef>:66: MatplotlibDeprecationWarning: Auto-removal of overlapping axes is deprecated since 3.6 and will be removed two minor releases later; explicitly call ax.remove() as needed.\n",
            "  plt.subplot(1, 2, 1)\n"
          ]
        },
        {
          "output_type": "display_data",
          "data": {
            "text/plain": [
              "<Figure size 640x480 with 2 Axes>"
            ],
            "image/png": "[encoded data removed]"
          },
          "metadata": {}
        },
        {
          "output_type": "stream",
          "name": "stdout",
          "text": [
            "Saving Best Model with Accuracy:urracy 96.2300033569336\n",
            "Époque: 1 Précision: 96.2300033569336 %\n",
            "Saving Best Model with Accuracy:urracy 97.44000244140625\n",
            "Époque: 2 Précision: 97.44000244140625 %\n",
            "Saving Best Model with Accuracy:urracy 97.8499984741211\n",
            "Époque: 3 Précision: 97.8499984741211 %\n",
            "Saving Best Model with Accuracy:urracy 98.66000366210938\n",
            "Époque: 4 Précision: 98.66000366210938 %\n",
            "Époque: 5 Précision: 98.18000030517578 %\n",
            "Saving Best Model with Accuracy:urracy 98.93000030517578\n",
            "Époque: 6 Précision: 98.93000030517578 %\n",
            "Saving Best Model with Accuracy:urracy 99.0\n",
            "Époque: 7 Précision: 99.0 %\n",
            "Saving Best Model with Accuracy:urracy 99.05000305175781\n",
            "Époque: 8 Précision: 99.05000305175781 %\n",
            "Époque: 9 Précision: 99.05000305175781 %\n",
            "Époque: 10 Précision: 98.87999725341797 %\n"
          ]
        },
        {
          "output_type": "display_data",
          "data": {
            "text/plain": [
              "<Figure size 640x480 with 1 Axes>"
            ],
            "image/png": "[encoded data removed]"
          },
          "metadata": {}
        }
      ]
    }
  ]
}