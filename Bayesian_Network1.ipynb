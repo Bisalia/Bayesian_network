{
 "cells": [
  {
   "cell_type": "markdown",
   "id": "88ae96cc",
   "metadata": {},
   "source": [
    "Suicide or death by natural cause !?\n",
    "\n",
    "Let’s say you are working for psychocriminology section of Vancouver police department.The department received a call and someone claimed that he found a dead student in his apartment. Autopsy results would not be released by next week, but for some reason the police needs to find out the cause of death earlier.Therefore, the department puts you in charge of an investigation to find out the probability that he committed a suicide or he died of a natural cause. You are required to use your magical artificial intelligence skills to reason based on some pieces of information that you managed to extract from his diary that you found on his study table.\n",
    "\n",
    "You decided to to represent the possible situations that lead to his death with a few indicator variables (only can be true or false):"
   ]
  },
  {
   "cell_type": "code",
   "execution_count": null,
   "id": "7a46ada0",
   "metadata": {},
   "outputs": [],
   "source": []
  },
  {
   "cell_type": "markdown",
   "id": "549ee272",
   "metadata": {},
   "source": []
  },
  {
   "cell_type": "code",
   "execution_count": 113,
   "id": "037c9dea",
   "metadata": {},
   "outputs": [],
   "source": [
    "from pgmpy.models import BayesianNetwork\n",
    "from pgmpy.factors.discrete import TabularCPD\n",
    "import networkx as nx\n",
    "import matplotlib.pyplot as plt"
   ]
  },
  {
   "cell_type": "markdown",
   "id": "dae93e75",
   "metadata": {},
   "source": []
  },
  {
   "cell_type": "markdown",
   "id": "c636245e",
   "metadata": {},
   "source": [
    "# P(BU,RL,ES,NFF,DEP,FNP,PRS,CST,INS,SIL,PS,SU)"
   ]
  },
  {
   "cell_type": "markdown",
   "id": "58eb8a08",
   "metadata": {},
   "source": []
  },
  {
   "cell_type": "code",
   "execution_count": 192,
   "id": "fa48a050",
   "metadata": {},
   "outputs": [],
   "source": [
    "model = BayesianNetwork([('BU', 'ES'), ('RL', 'ES'),\n",
    "                        ('ES', 'DEP'), ('NFF' ,'DEP'), \n",
    "                        ('FNP', 'CST'), ('PRS', 'CST'),('CST', 'INS'),\n",
    "                        ('SIL', 'PS'),('DEP', 'SU'),('CST', 'SU'), ('PS', 'SU')])"
   ]
  },
  {
   "cell_type": "code",
   "execution_count": 193,
   "id": "ba94c616",
   "metadata": {},
   "outputs": [],
   "source": [
    "#задим вереяности BU\n",
    "cpd_BU =TabularCPD('BU', 2, [[0.2], [0.8]])"
   ]
  },
  {
   "cell_type": "code",
   "execution_count": 194,
   "id": "c3c12f0d",
   "metadata": {},
   "outputs": [],
   "source": [
    "#задим вереяности RL\n",
    "cpd_RL =TabularCPD('RL', 2, [[0.1], [0.9]])"
   ]
  },
  {
   "cell_type": "code",
   "execution_count": 195,
   "id": "6a47f22a",
   "metadata": {},
   "outputs": [],
   "source": [
    "#задим вереяности ES\n",
    "cpd_ES =TabularCPD('ES', 2, [[0.85, 0.4, 0.6, 0.05],\n",
    "                            [0.15, 0.6, 0.4, 0.95]], \n",
    "                   evidence=['BU', 'RL'],\n",
    "                  evidence_card=[2, 2])"
   ]
  },
  {
   "cell_type": "code",
   "execution_count": 196,
   "id": "cf162c8c",
   "metadata": {},
   "outputs": [
    {
     "name": "stdout",
     "output_type": "stream",
     "text": [
      "+--------+-----+\n",
      "| NFF(0) | 0.5 |\n",
      "+--------+-----+\n",
      "| NFF(1) | 0.5 |\n",
      "+--------+-----+\n"
     ]
    }
   ],
   "source": [
    "#задим вереяности NFF\n",
    "cpd_NFF =TabularCPD('NFF', 2, [[0.5], [0.5]])\n",
    "print(cpd_NFF)"
   ]
  },
  {
   "cell_type": "code",
   "execution_count": 197,
   "id": "b3318512",
   "metadata": {},
   "outputs": [
    {
     "name": "stdout",
     "output_type": "stream",
     "text": [
      "+--------+--------+--------+--------+--------+\n",
      "| ES     | ES(0)  | ES(0)  | ES(1)  | ES(1)  |\n",
      "+--------+--------+--------+--------+--------+\n",
      "| NFF    | NFF(0) | NFF(1) | NFF(0) | NFF(1) |\n",
      "+--------+--------+--------+--------+--------+\n",
      "| DEP(0) | 0.98   | 0.75   | 0.8    | 0.1    |\n",
      "+--------+--------+--------+--------+--------+\n",
      "| DEP(1) | 0.02   | 0.25   | 0.2    | 0.9    |\n",
      "+--------+--------+--------+--------+--------+\n"
     ]
    }
   ],
   "source": [
    "#задим вереяности DEP\n",
    "cpd_DEP =TabularCPD('DEP', 2, [[0.98, 0.75, 0.8, 0.1],\n",
    "                            [0.02, 0.25, 0.2, 0.9]], \n",
    "                   evidence=['ES', 'NFF'],\n",
    "                  evidence_card=[2, 2])\n",
    "print(cpd_DEP)"
   ]
  },
  {
   "cell_type": "code",
   "execution_count": 198,
   "id": "39859d0e",
   "metadata": {},
   "outputs": [
    {
     "name": "stdout",
     "output_type": "stream",
     "text": [
      "+--------+-----+\n",
      "| FNP(0) | 0.3 |\n",
      "+--------+-----+\n",
      "| FNP(1) | 0.7 |\n",
      "+--------+-----+\n"
     ]
    }
   ],
   "source": [
    "#задим вереяности FNP\n",
    "cpd_FNP =TabularCPD('FNP', 2, [[0.3], [0.7]])\n",
    "print(cpd_FNP)"
   ]
  },
  {
   "cell_type": "code",
   "execution_count": 175,
   "id": "f8b3aae9",
   "metadata": {},
   "outputs": [],
   "source": [
    "#задим вереяности PRS\n",
    "cpd_PRS =TabularCPD('PRS', 2, [[0.3], [0.7]])\n"
   ]
  },
  {
   "cell_type": "code",
   "execution_count": 199,
   "id": "77f618df",
   "metadata": {},
   "outputs": [
    {
     "name": "stdout",
     "output_type": "stream",
     "text": [
      "+--------+--------+--------+--------+--------+\n",
      "| FNP    | FNP(0) | FNP(0) | FNP(1) | FNP(1) |\n",
      "+--------+--------+--------+--------+--------+\n",
      "| PRS    | PRS(0) | PRS(1) | PRS(0) | PRS(1) |\n",
      "+--------+--------+--------+--------+--------+\n",
      "| CST(0) | 0.95   | 0.8    | 0.6    | 0.1    |\n",
      "+--------+--------+--------+--------+--------+\n",
      "| CST(1) | 0.05   | 0.2    | 0.4    | 0.9    |\n",
      "+--------+--------+--------+--------+--------+\n"
     ]
    }
   ],
   "source": [
    "#задим вереяности DEP\n",
    "cpd_CST =TabularCPD('CST', 2, [[0.95, 0.8, 0.6, 0.1],\n",
    "                            [0.05, 0.2, 0.4, 0.9]], \n",
    "                   evidence=['FNP', 'PRS'],\n",
    "                  evidence_card=[2, 2])\n",
    "print(cpd_CST)"
   ]
  },
  {
   "cell_type": "code",
   "execution_count": 191,
   "id": "e987cea7",
   "metadata": {},
   "outputs": [
    {
     "name": "stdout",
     "output_type": "stream",
     "text": [
      "+--------+--------+--------+\n",
      "| CST    | CST(0) | CST(1) |\n",
      "+--------+--------+--------+\n",
      "| INS(0) | 0.95   | 0.3    |\n",
      "+--------+--------+--------+\n",
      "| INS(1) | 0.05   | 0.7    |\n",
      "+--------+--------+--------+\n"
     ]
    }
   ],
   "source": [
    "cpd_INS =TabularCPD('INS', 2, [[0.95, 0.3],\n",
    "                            [0.05, 0.7]], \n",
    "                   evidence=['CST'],\n",
    "                  evidence_card=[2])\n",
    "print(cpd_INS)"
   ]
  },
  {
   "cell_type": "code",
   "execution_count": 200,
   "id": "da940149",
   "metadata": {},
   "outputs": [],
   "source": [
    "#задим вереяности SIL\n",
    "cpd_SIL =TabularCPD('SIL', 2, [[0.2], [0.8]])\n"
   ]
  },
  {
   "cell_type": "code",
   "execution_count": 201,
   "id": "3cd225e3",
   "metadata": {},
   "outputs": [
    {
     "name": "stdout",
     "output_type": "stream",
     "text": [
      "+-------+--------+--------+\n",
      "| SIL   | SIL(0) | SIL(1) |\n",
      "+-------+--------+--------+\n",
      "| PS(0) | 0.95   | 0.2    |\n",
      "+-------+--------+--------+\n",
      "| PS(1) | 0.05   | 0.8    |\n",
      "+-------+--------+--------+\n"
     ]
    }
   ],
   "source": [
    "cpd_PS= TabularCPD('PS', 2, [[0.95, 0.2],[0.05, 0.8]],\n",
    "                   evidence=['SIL'],\n",
    "                   evidence_card=[2])\n",
    "print(cpd_PS)\n"
   ]
  },
  {
   "cell_type": "code",
   "execution_count": 125,
   "id": "86b506b9",
   "metadata": {},
   "outputs": [],
   "source": [
    "#задим вереяности SU\n"
   ]
  },
  {
   "cell_type": "code",
   "execution_count": 202,
   "id": "d21ea9bf",
   "metadata": {},
   "outputs": [
    {
     "name": "stdout",
     "output_type": "stream",
     "text": [
      "+-------+--------+--------+--------+-----+--------+--------+--------+\n",
      "| DEP   | DEP(0) | DEP(0) | DEP(0) | ... | DEP(1) | DEP(1) | DEP(1) |\n",
      "+-------+--------+--------+--------+-----+--------+--------+--------+\n",
      "| CST   | CST(0) | CST(0) | CST(1) | ... | CST(0) | CST(1) | CST(1) |\n",
      "+-------+--------+--------+--------+-----+--------+--------+--------+\n",
      "| PS    | PS(0)  | PS(1)  | PS(0)  | ... | PS(1)  | PS(0)  | PS(1)  |\n",
      "+-------+--------+--------+--------+-----+--------+--------+--------+\n",
      "| SU(0) | 0.8    | 0.95   | 0.65   | ... | 0.4    | 0.02   | 0.05   |\n",
      "+-------+--------+--------+--------+-----+--------+--------+--------+\n",
      "| SU(1) | 0.2    | 0.05   | 0.35   | ... | 0.6    | 0.98   | 0.95   |\n",
      "+-------+--------+--------+--------+-----+--------+--------+--------+\n"
     ]
    }
   ],
   "source": [
    "cpd_SU =TabularCPD('SU',2 , [[0.8, 0.95, 0.65, 0.75, 0.3, 0.4, 0.02, 0.05],\n",
    "                            [0.2, 0.05, 0.35, 0.25, 0.7, 0.6, 0.98, 0.95]], \n",
    "                   evidence=['DEP', 'CST', 'PS'],\n",
    "                  evidence_card=[2, 2, 2])\n",
    "print(cpd_SU)"
   ]
  },
  {
   "cell_type": "code",
   "execution_count": 203,
   "id": "61510a46",
   "metadata": {},
   "outputs": [],
   "source": [
    "# Associating the CPDs with the network structure.\n",
    "model.add_cpds(cpd_BU, cpd_RL, cpd_ES, cpd_NFF, cpd_DEP, cpd_FNP, cpd_PRS, cpd_CST, cpd_INS, cpd_SIL, cpd_PS, cpd_SU)"
   ]
  },
  {
   "cell_type": "code",
   "execution_count": 204,
   "id": "f44c2018",
   "metadata": {},
   "outputs": [
    {
     "data": {
      "text/plain": [
       "True"
      ]
     },
     "execution_count": 204,
     "metadata": {},
     "output_type": "execute_result"
    }
   ],
   "source": [
    "model.check_model()"
   ]
  },
  {
   "cell_type": "code",
   "execution_count": 205,
   "id": "95fc416a",
   "metadata": {},
   "outputs": [
    {
     "data": {
      "image/png": "[encoded data removed]",
      "text/plain": [
       "<Figure size 432x288 with 1 Axes>"
      ]
     },
     "metadata": {},
     "output_type": "display_data"
    }
   ],
   "source": [
    "nx.draw_circular(model, with_labels=True, arrowsize=50, node_size=1900, font_weight=\"bold\")\n",
    "plt.show()"
   ]
  },
  {
   "cell_type": "code",
   "execution_count": null,
   "id": "33387fef",
   "metadata": {},
   "outputs": [],
   "source": []
  }
 ],
 "metadata": {
  "kernelspec": {
   "display_name": "Python 3 (ipykernel)",
   "language": "python",
   "name": "python3"
  },
  "language_info": {
   "codemirror_mode": {
    "name": "ipython",
    "version": 3
   },
   "file_extension": ".py",
   "mimetype": "text/x-python",
   "name": "python",
   "nbconvert_exporter": "python",
   "pygments_lexer": "ipython3",
   "version": "3.9.12"
  }
 },
 "nbformat": 4,
 "nbformat_minor": 5
}
